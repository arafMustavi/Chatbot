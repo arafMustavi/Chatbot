{
  "nbformat": 4,
  "nbformat_minor": 0,
  "metadata": {
    "colab": {
      "name": "ChatBot Using Pytorch.ipynb",
      "provenance": [],
      "collapsed_sections": [],
      "authorship_tag": "ABX9TyN5Z2k5SNIEutSrlSMSqll0",
      "include_colab_link": true
    },
    "kernelspec": {
      "name": "python3",
      "display_name": "Python 3"
    }
  },
  "cells": [
    {
      "cell_type": "markdown",
      "metadata": {
        "id": "view-in-github",
        "colab_type": "text"
      },
      "source": [
        "<a href=\"https://colab.research.google.com/github/arafMustavi/Chatbot/blob/master/ChatBot_Using_Pytorch.ipynb\" target=\"_parent\"><img src=\"https://colab.research.google.com/assets/colab-badge.svg\" alt=\"Open In Colab\"/></a>"
      ]
    },
    {
      "cell_type": "markdown",
      "metadata": {
        "id": "bIttGZlSafkJ",
        "colab_type": "text"
      },
      "source": [
        "Setup of Environment"
      ]
    },
    {
      "cell_type": "code",
      "metadata": {
        "id": "mQnDVRMnORPs",
        "colab_type": "code",
        "colab": {
          "base_uri": "https://localhost:8080/",
          "height": 54
        },
        "outputId": "f4fb6afa-0527-480f-c0f6-0579e132c666"
      },
      "source": [
        "import nltk\n",
        "nltk.download('punkt')\n",
        "from nltk.stem.porter import PorterStemmer"
      ],
      "execution_count": 1,
      "outputs": [
        {
          "output_type": "stream",
          "text": [
            "[nltk_data] Downloading package punkt to /root/nltk_data...\n",
            "[nltk_data]   Package punkt is already up-to-date!\n"
          ],
          "name": "stdout"
        }
      ]
    },
    {
      "cell_type": "markdown",
      "metadata": {
        "id": "3ZYSYkuCTuVU",
        "colab_type": "text"
      },
      "source": [
        "Tokenizer and Stemmer"
      ]
    },
    {
      "cell_type": "code",
      "metadata": {
        "id": "Aqf2rZ80QY13",
        "colab_type": "code",
        "colab": {}
      },
      "source": [
        "def tokenize(sentence):\n",
        "  return nltk.word_tokenize(sentence)\n",
        "\n",
        "stemmer = PorterStemmer()\n",
        "\n",
        "def stem_word(word):\n",
        "  word = word.lower()\n",
        "  return stemmer.stem(word)\n",
        "  "
      ],
      "execution_count": 2,
      "outputs": []
    },
    {
      "cell_type": "markdown",
      "metadata": {
        "id": "ChKD6H6Yp4Yb",
        "colab_type": "text"
      },
      "source": [
        "Load Data and Train"
      ]
    },
    {
      "cell_type": "code",
      "metadata": {
        "id": "EOcOK3COqrD5",
        "colab_type": "code",
        "colab": {}
      },
      "source": [
        "import json\n",
        "\n",
        "with open('/content/sample_data/intents.json','r') as f:\n",
        "  intents = json.load(f)"
      ],
      "execution_count": 3,
      "outputs": []
    },
    {
      "cell_type": "code",
      "metadata": {
        "id": "OERyafy70pW7",
        "colab_type": "code",
        "colab": {}
      },
      "source": [
        "all_words = []\n",
        "tags = []\n",
        "xy = []\n",
        "\n",
        "for intent in intents['intents']:\n",
        "  tag = intent['tag']\n",
        "  tags.append(tag)\n",
        "  for pattern in intent['patterns']:\n",
        "    tokens = tokenize(pattern)\n",
        "    all_words.extend(tokens)\n",
        "    xy.append((tokens,tag))"
      ],
      "execution_count": 4,
      "outputs": []
    },
    {
      "cell_type": "code",
      "metadata": {
        "id": "034mSgsN0q0R",
        "colab_type": "code",
        "colab": {}
      },
      "source": [
        "ignore_words = [\"?\" , \",\" , \"!\" , \".\" , \"(\" , \")\" ]"
      ],
      "execution_count": 5,
      "outputs": []
    },
    {
      "cell_type": "code",
      "metadata": {
        "id": "rA08OmkV3sHn",
        "colab_type": "code",
        "colab": {}
      },
      "source": [
        "all_words = [stem_word(word) for word in all_words if word not in ignore_words ]\n",
        "\n",
        "all_words = sorted(set(all_words))\n",
        "tags = sorted(set(tags))"
      ],
      "execution_count": 6,
      "outputs": []
    },
    {
      "cell_type": "markdown",
      "metadata": {
        "id": "73CB6-Bu4gNf",
        "colab_type": "text"
      },
      "source": [
        "Train Data"
      ]
    },
    {
      "cell_type": "code",
      "metadata": {
        "id": "6G2mDyta-dxH",
        "colab_type": "code",
        "colab": {}
      },
      "source": [
        "import numpy as np\n",
        "X_train = []\n",
        "Y_train = []\n",
        "X_train = np.array(X_train)\n",
        "Y_train = np.array(Y_train)\n"
      ],
      "execution_count": 7,
      "outputs": []
    },
    {
      "cell_type": "code",
      "metadata": {
        "id": "9A0kUOBnQsdi",
        "colab_type": "code",
        "colab": {}
      },
      "source": [
        "def bag_of_words(tokenized_sentence,all_words):\n",
        "  tokenized_sentence = [stem_word(word) for word in tokenized_sentence]\n",
        "  bag = np.zeros(len(all_words) , dtype = np.float32)\n",
        "\n",
        "  for (idx,w) in enumerate(all_words):\n",
        "    if w in tokenized_sentence:\n",
        "      bag[idx] = 1.0\n",
        "  \n",
        "  return bag  "
      ],
      "execution_count": 8,
      "outputs": []
    },
    {
      "cell_type": "code",
      "metadata": {
        "id": "2DBJ-QzW4ftY",
        "colab_type": "code",
        "colab": {}
      },
      "source": [
        "for (pattern_sentence,tag) in xy:\n",
        "  bag = bag_of_words(pattern_sentence,all_words)\n",
        "  X_train=np.append(X_train,bag)\n",
        "\n",
        "  label = tags.index(tag)\n",
        "  Y_train=np.append(Y_train,label)"
      ],
      "execution_count": 9,
      "outputs": []
    },
    {
      "cell_type": "markdown",
      "metadata": {
        "id": "ZRIgDqfrBgV4",
        "colab_type": "text"
      },
      "source": [
        "PyTorch Begins"
      ]
    },
    {
      "cell_type": "code",
      "metadata": {
        "id": "3S9eVUabBlFh",
        "colab_type": "code",
        "colab": {}
      },
      "source": [
        "import torch\n",
        "import torch.nn as nn\n",
        "from torch.utils.data import Dataset,DataLoader"
      ],
      "execution_count": 10,
      "outputs": []
    },
    {
      "cell_type": "code",
      "metadata": {
        "id": "jwc7Q8SZvR0l",
        "colab_type": "code",
        "colab": {}
      },
      "source": [
        ""
      ],
      "execution_count": 10,
      "outputs": []
    },
    {
      "cell_type": "code",
      "metadata": {
        "id": "kEU_4UCDBrSc",
        "colab_type": "code",
        "colab": {}
      },
      "source": [
        "class chatDataset(Dataset):\n",
        "  def __init__(self):\n",
        "    self.n_samples = X_train.size\n",
        "    self.X_data = X_train\n",
        "    self.Y_data = Y_train\n",
        "\n",
        "    def __getitem__(self,idx):\n",
        "      return self.X_data[idx],self.Y_data[idx]\n",
        "    \n",
        "    def __len__(self):\n",
        "      return self.n_samples"
      ],
      "execution_count": 11,
      "outputs": []
    },
    {
      "cell_type": "code",
      "metadata": {
        "id": "hLpoun_TwK4w",
        "colab_type": "code",
        "colab": {
          "base_uri": "https://localhost:8080/",
          "height": 225
        },
        "outputId": "90824dcf-fdb1-48c2-8946-3c35140db126"
      },
      "source": [
        "#Hyperparameters\n",
        "batch_size = 8\n",
        "hidden_size = 8\n",
        "output_size = len(tags)\n",
        "input_size = X_train.size\n",
        "learning_rate = 0.001\n",
        "num_epochs = 1000\n",
        "\n",
        "dataset = chatDataset()\n",
        "train_loader = DataLoader(dataset = dataset, batch_size = batch_size, shuffle = True , num_workers = 2)"
      ],
      "execution_count": 12,
      "outputs": [
        {
          "output_type": "error",
          "ename": "TypeError",
          "evalue": "ignored",
          "traceback": [
            "\u001b[0;31m---------------------------------------------------------------------------\u001b[0m",
            "\u001b[0;31mTypeError\u001b[0m                                 Traceback (most recent call last)",
            "\u001b[0;32m<ipython-input-12-cbf0daca0dc8>\u001b[0m in \u001b[0;36m<module>\u001b[0;34m()\u001b[0m\n\u001b[1;32m      8\u001b[0m \u001b[0;34m\u001b[0m\u001b[0m\n\u001b[1;32m      9\u001b[0m \u001b[0mdataset\u001b[0m \u001b[0;34m=\u001b[0m \u001b[0mchatDataset\u001b[0m\u001b[0;34m(\u001b[0m\u001b[0;34m)\u001b[0m\u001b[0;34m\u001b[0m\u001b[0;34m\u001b[0m\u001b[0m\n\u001b[0;32m---> 10\u001b[0;31m \u001b[0mprint\u001b[0m\u001b[0;34m(\u001b[0m\u001b[0mlen\u001b[0m\u001b[0;34m(\u001b[0m\u001b[0mdataset\u001b[0m\u001b[0;34m)\u001b[0m\u001b[0;34m)\u001b[0m\u001b[0;34m\u001b[0m\u001b[0;34m\u001b[0m\u001b[0m\n\u001b[0m\u001b[1;32m     11\u001b[0m \u001b[0;31m#train_loader = DataLoader(dataset = dataset, batch_size = batch_size, shuffle = True , num_workers = 2)\u001b[0m\u001b[0;34m\u001b[0m\u001b[0;34m\u001b[0m\u001b[0;34m\u001b[0m\u001b[0m\n",
            "\u001b[0;31mTypeError\u001b[0m: object of type 'chatDataset' has no len()"
          ]
        }
      ]
    },
    {
      "cell_type": "markdown",
      "metadata": {
        "id": "ITOT60Gfn4-t",
        "colab_type": "text"
      },
      "source": [
        "# Model\n",
        "A feed forward Neural Network with two hidden layer\n"
      ]
    },
    {
      "cell_type": "code",
      "metadata": {
        "id": "QAlr3pYgn7nh",
        "colab_type": "code",
        "colab": {}
      },
      "source": [
        "class NeuralNet(nn.Module):\n",
        "  def __init__(self , input_size , hidden_size , num_classes):\n",
        "      super(NeuralNet,self).__init__()\n",
        "      self.l1=nn.Linear(input_size,hidden_size)\n",
        "      self.l2=nn.Linear(hidden_size,hidden_size)\n",
        "      self.l3=nn.Linear(hidden_size,num_classes)\n",
        "\n",
        "      self.relu = nn.ReLU()\n",
        "\n",
        "  def forward(self,x):\n",
        "    out = self.l1(x)\n",
        "    out = self.relu(out)\n",
        "    \n",
        "    out = self.l2(out)\n",
        "    out = self.relu(out)\n",
        "    \n",
        "    out = self.l3(out)\n",
        "    \n",
        "    return out\n",
        "    \n"
      ],
      "execution_count": null,
      "outputs": []
    },
    {
      "cell_type": "markdown",
      "metadata": {
        "id": "gTpIaob3qgvd",
        "colab_type": "text"
      },
      "source": [
        "Train "
      ]
    },
    {
      "cell_type": "code",
      "metadata": {
        "id": "FbjWp-2VTXED",
        "colab_type": "code",
        "colab": {}
      },
      "source": [
        ""
      ],
      "execution_count": null,
      "outputs": []
    },
    {
      "cell_type": "code",
      "metadata": {
        "id": "y_nab_NDqlkY",
        "colab_type": "code",
        "colab": {}
      },
      "source": [
        "device = torch.device('cuda' if torch.cuda.is_available() else 'cpu')\n",
        "model =  NeuralNet(input_size, hidden_size , output_size).to(device)"
      ],
      "execution_count": null,
      "outputs": []
    },
    {
      "cell_type": "code",
      "metadata": {
        "id": "29dqPEfG061x",
        "colab_type": "code",
        "colab": {}
      },
      "source": [
        "criterion = nn.CrossEntropyLoss()\n",
        "optimizer = torch.optim.Adam(model.parameters() , lr = learning_rate)\n",
        "\n",
        "for epoch in range(num_epochs):\n",
        "  for (words , labels) in train_loader:\n",
        "    words = words.to(device)\n",
        "    labels = labels.to(device)\n",
        "\n",
        "    #Forward\n",
        "    outputs = model(words)\n",
        "    loss = criterion(outputs, labels)\n",
        "\n",
        "    #Backward and Optimizer Step\n",
        "    optimizer.zero_grad()\n",
        "    loss.backward()\n",
        "    optimizer.step()\n",
        "  if (epoch+1)%100 == 0 :\n",
        "    print(f'epoch {epoch+1}/{num_epochs}, loss = {loss.item():.4f}')\n",
        "print(f'final loss , loss = {loss.item():.4f}')"
      ],
      "execution_count": null,
      "outputs": []
    },
    {
      "cell_type": "code",
      "metadata": {
        "id": "S3ANzSPZ0w-0",
        "colab_type": "code",
        "colab": {}
      },
      "source": [
        ""
      ],
      "execution_count": null,
      "outputs": []
    }
  ]
}