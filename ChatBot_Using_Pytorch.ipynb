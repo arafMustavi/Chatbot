{
  "nbformat": 4,
  "nbformat_minor": 0,
  "metadata": {
    "colab": {
      "name": "ChatBot Using Pytorch.ipynb",
      "provenance": [],
      "authorship_tag": "ABX9TyOLPHc8RxGYD9eQWqAHobTG",
      "include_colab_link": true
    },
    "kernelspec": {
      "name": "python3",
      "display_name": "Python 3"
    }
  },
  "cells": [
    {
      "cell_type": "markdown",
      "metadata": {
        "id": "view-in-github",
        "colab_type": "text"
      },
      "source": [
        "<a href=\"https://colab.research.google.com/github/arafMustavi/Chatbot/blob/master/ChatBot_Using_Pytorch.ipynb\" target=\"_parent\"><img src=\"https://colab.research.google.com/assets/colab-badge.svg\" alt=\"Open In Colab\"/></a>"
      ]
    },
    {
      "cell_type": "markdown",
      "metadata": {
        "id": "bIttGZlSafkJ",
        "colab_type": "text"
      },
      "source": [
        "Setup of Environment"
      ]
    },
    {
      "cell_type": "code",
      "metadata": {
        "id": "mQnDVRMnORPs",
        "colab_type": "code",
        "colab": {}
      },
      "source": [
        "import nltk\n",
        "nltk.download('punkt')\n",
        "from nltk.stem.porter import PorterStemmer"
      ],
      "execution_count": null,
      "outputs": []
    },
    {
      "cell_type": "markdown",
      "metadata": {
        "id": "3ZYSYkuCTuVU",
        "colab_type": "text"
      },
      "source": [
        "Initiating Tokenizer"
      ]
    },
    {
      "cell_type": "code",
      "metadata": {
        "id": "Aqf2rZ80QY13",
        "colab_type": "code",
        "colab": {}
      },
      "source": [
        "def tokenize(sentence):\n",
        "  return nltk.word_tokenize(sentence)"
      ],
      "execution_count": 14,
      "outputs": []
    },
    {
      "cell_type": "markdown",
      "metadata": {
        "id": "lrHjmXPHT0Jk",
        "colab_type": "text"
      },
      "source": [
        "Initiating Stemmer"
      ]
    },
    {
      "cell_type": "code",
      "metadata": {
        "id": "oKa_ejF7Tcqn",
        "colab_type": "code",
        "colab": {}
      },
      "source": [
        "stemmer = PorterStemmer()"
      ],
      "execution_count": 19,
      "outputs": []
    },
    {
      "cell_type": "code",
      "metadata": {
        "id": "7aEC6a7CQbxa",
        "colab_type": "code",
        "colab": {}
      },
      "source": [
        "def stem_word(word):\n",
        "  word = word.lower()\n",
        "  return stemmer.stem(word)\n",
        "  "
      ],
      "execution_count": 20,
      "outputs": []
    },
    {
      "cell_type": "markdown",
      "metadata": {
        "id": "MtMihBoTRo7I",
        "colab_type": "text"
      },
      "source": [
        "Testing the Tokenizer"
      ]
    },
    {
      "cell_type": "code",
      "metadata": {
        "id": "SZ_cO6j6RtEn",
        "colab_type": "code",
        "colab": {}
      },
      "source": [
        "print(\"Tokenizing the Sentense: Hello World,this is ARAF\")\n",
        "print(tokenize(\"Hello World,this is ARAF\"))\n",
        "print(tokenize(\"I feel so sad right now\"))"
      ],
      "execution_count": null,
      "outputs": []
    },
    {
      "cell_type": "markdown",
      "metadata": {
        "id": "OqaxUhJ5UOtn",
        "colab_type": "text"
      },
      "source": [
        "Testing Stemmer"
      ]
    },
    {
      "cell_type": "code",
      "metadata": {
        "id": "OcONMPD0UQyO",
        "colab_type": "code",
        "colab": {}
      },
      "source": [
        "print(stem_word(\"Organization\"))"
      ],
      "execution_count": null,
      "outputs": []
    },
    {
      "cell_type": "markdown",
      "metadata": {
        "id": "J6e6wtTXUdIt",
        "colab_type": "text"
      },
      "source": [
        "Tokenize and Stem Simultanously"
      ]
    },
    {
      "cell_type": "code",
      "metadata": {
        "id": "y0MDQidAUg7k",
        "colab_type": "code",
        "colab": {}
      },
      "source": [
        "string = \"How Long does the shipping takes?\"\n",
        "tokens = tokenize(string)\n",
        "for i in tokens:\n",
        "  print(stem_word(i))"
      ],
      "execution_count": null,
      "outputs": []
    },
    {
      "cell_type": "code",
      "metadata": {
        "id": "9A0kUOBnQsdi",
        "colab_type": "code",
        "colab": {}
      },
      "source": [
        "def bag_of_words(tokenized_sentence,arr_words):\n"
      ],
      "execution_count": null,
      "outputs": []
    }
  ]
}